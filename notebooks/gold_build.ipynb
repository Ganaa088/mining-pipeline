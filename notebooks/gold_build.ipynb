{
 "cells": [
  {
   "cell_type": "code",
   "execution_count": 0,
   "metadata": {
    "application/vnd.databricks.v1+cell": {
     "cellMetadata": {
      "byteLimit": 2048000,
      "rowLimit": 10000
     },
     "inputWidgets": {},
     "nuid": "6037422c-097e-4571-8348-5e035afbaaba",
     "showTitle": false,
     "tableResultSettingsMap": {},
     "title": ""
    }
   },
   "outputs": [],
   "source": [
    "# --- PARAMETERS (set by ADF) ---\n",
    "dbutils.widgets.text(\"db\", \"mining\")\n",
    "dbutils.widgets.text(\"silver_table\", \"silver_flotation\")\n",
    "dbutils.widgets.text(\"gold_table\", \"gold_daily_kpis\")\n",
    "dbutils.widgets.text(\"silica_threshold\", \"2.0\")\n",
    "DB = dbutils.widgets.get(\"db\")\n",
    "SILVER = f\"{DB}.{dbutils.widgets.get('silver_table')}\"\n",
    "GOLD = f\"{DB}.{dbutils.widgets.get('gold_table')}\"\n",
    "TH = float(dbutils.widgets.get(\"silica_threshold\"))\n",
    "\n",
    "from pyspark.sql import functions as F\n",
    "\n",
    "silver = spark.table(SILVER)\n",
    "\n",
    "daily = (silver\n",
    "    .withColumn(\"day\", F.to_date(\"ts\"))\n",
    "    .groupBy(\"day\")\n",
    "    .agg(\n",
    "        F.avg(\"percent_silica_concentrate\").alias(\"avg_silica\"),\n",
    "        F.max(\"percent_silica_concentrate\").alias(\"max_silica\"),\n",
    "        F.min(\"percent_silica_concentrate\").alias(\"min_silica\"),\n",
    "        (F.sum(F.when(F.col(\"percent_silica_concentrate\") > TH, 1).otherwise(0))\n",
    "         / F.count(\"*\") * 100).alias(\"pct_above_threshold\"),\n",
    "        F.count(\"*\").alias(\"records\")\n",
    "    )\n",
    "    .orderBy(\"day\"))\n",
    "\n",
    "(daily.write\n",
    "   .format(\"delta\")\n",
    "   .mode(\"overwrite\")\n",
    "   .option(\"overwriteSchema\",\"true\")\n",
    "   .saveAsTable(GOLD))\n",
    "\n",
    "print(f\"✅ Gold built: {GOLD} (threshold={TH})\")"
   ]
  },
  {
   "cell_type": "code",
   "execution_count": 0,
   "metadata": {
    "application/vnd.databricks.v1+cell": {
     "cellMetadata": {},
     "inputWidgets": {},
     "nuid": "1a12d365-3a27-47b1-9a80-4e4fd643ed4e",
     "showTitle": false,
     "tableResultSettingsMap": {},
     "title": ""
    }
   },
   "outputs": [],
   "source": []
  }
 ],
 "metadata": {
  "application/vnd.databricks.v1+notebook": {
   "computePreferences": null,
   "dashboards": [],
   "environmentMetadata": {
    "base_environment": "",
    "environment_version": "3"
   },
   "inputWidgetPreferences": null,
   "language": "python",
   "notebookMetadata": {
    "pythonIndentUnit": 4
   },
   "notebookName": "gold_build",
   "widgets": {
    "db": {
     "currentValue": "mining",
     "nuid": "30414a6a-6d82-448b-a982-bd6af6c7df06",
     "typedWidgetInfo": {
      "autoCreated": false,
      "defaultValue": "mining",
      "label": null,
      "name": "db",
      "options": {
       "widgetDisplayType": "Text",
       "validationRegex": null
      },
      "parameterDataType": "String"
     },
     "widgetInfo": {
      "widgetType": "text",
      "defaultValue": "mining",
      "label": null,
      "name": "db",
      "options": {
       "widgetType": "text",
       "autoCreated": false,
       "validationRegex": null
      }
     }
    },
    "gold_table": {
     "currentValue": "gold_daily_kpis",
     "nuid": "07fb40e9-4c8a-418b-8597-d75ed427406c",
     "typedWidgetInfo": {
      "autoCreated": false,
      "defaultValue": "gold_daily_kpis",
      "label": null,
      "name": "gold_table",
      "options": {
       "widgetDisplayType": "Text",
       "validationRegex": null
      },
      "parameterDataType": "String"
     },
     "widgetInfo": {
      "widgetType": "text",
      "defaultValue": "gold_daily_kpis",
      "label": null,
      "name": "gold_table",
      "options": {
       "widgetType": "text",
       "autoCreated": false,
       "validationRegex": null
      }
     }
    },
    "silica_threshold": {
     "currentValue": "2.0",
     "nuid": "865ada8a-e827-437c-99e0-87cfc8666614",
     "typedWidgetInfo": {
      "autoCreated": false,
      "defaultValue": "2.0",
      "label": null,
      "name": "silica_threshold",
      "options": {
       "widgetDisplayType": "Text",
       "validationRegex": null
      },
      "parameterDataType": "String"
     },
     "widgetInfo": {
      "widgetType": "text",
      "defaultValue": "2.0",
      "label": null,
      "name": "silica_threshold",
      "options": {
       "widgetType": "text",
       "autoCreated": false,
       "validationRegex": null
      }
     }
    },
    "silver_table": {
     "currentValue": "silver_flotation",
     "nuid": "43c4bdee-4cff-4967-8ca9-047f4ea2f2bf",
     "typedWidgetInfo": {
      "autoCreated": false,
      "defaultValue": "silver_flotation",
      "label": null,
      "name": "silver_table",
      "options": {
       "widgetDisplayType": "Text",
       "validationRegex": null
      },
      "parameterDataType": "String"
     },
     "widgetInfo": {
      "widgetType": "text",
      "defaultValue": "silver_flotation",
      "label": null,
      "name": "silver_table",
      "options": {
       "widgetType": "text",
       "autoCreated": false,
       "validationRegex": null
      }
     }
    }
   }
  },
  "language_info": {
   "name": "python"
  }
 },
 "nbformat": 4,
 "nbformat_minor": 0
}
