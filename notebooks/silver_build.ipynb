{
 "cells": [
  {
   "cell_type": "code",
   "execution_count": 0,
   "metadata": {
    "application/vnd.databricks.v1+cell": {
     "cellMetadata": {
      "byteLimit": 2048000,
      "rowLimit": 10000
     },
     "inputWidgets": {},
     "nuid": "86ee74a5-1bf9-4bf4-9959-d3b551c44b31",
     "showTitle": false,
     "tableResultSettingsMap": {},
     "title": ""
    }
   },
   "outputs": [],
   "source": [
    "# --- PARAMETERS (set by ADF) ---\n",
    "dbutils.widgets.text(\"db\", \"mining\")                   # database name\n",
    "dbutils.widgets.text(\"silver_table\", \"silver_flotation\")\n",
    "DB = dbutils.widgets.get(\"db\")\n",
    "SILVER = f\"{DB}.{dbutils.widgets.get('silver_table')}\"\n",
    "\n",
    "from pyspark.sql import functions as F, types as T\n",
    "\n",
    "# 1) Load Bronze\n",
    "bronze = spark.table(f\"{DB}.bronze_flotation\")"
   ]
  },
  {
   "cell_type": "code",
   "execution_count": 0,
   "metadata": {
    "application/vnd.databricks.v1+cell": {
     "cellMetadata": {
      "byteLimit": 2048000,
      "rowLimit": 10000
     },
     "inputWidgets": {},
     "nuid": "56291f63-1ff5-427d-8ba6-5659b83a3f4b",
     "showTitle": false,
     "tableResultSettingsMap": {},
     "title": ""
    }
   },
   "outputs": [],
   "source": [
    "# 2) Parse timestamp and cast numerics\n",
    "df = bronze.withColumn(\"ts\", F.to_timestamp(\"date\", \"yyyy-MM-dd HH:mm:ss\"))\n",
    "numeric_cols = [c for c in df.columns if c not in (\"date\",\"ts\")]\n",
    "for c in numeric_cols:\n",
    "    df = (df.withColumn(c, F.when(F.col(c).isNull(), None).otherwise(F.trim(F.col(c))))\n",
    "            .withColumn(c, F.regexp_replace(F.col(c), \",\", \".\"))\n",
    "            .withColumn(c, F.regexp_replace(F.col(c), r\"[^0-9\\.\\-]\", \"\"))\n",
    "            .withColumn(c, F.col(c).cast(T.DoubleType())))"
   ]
  },
  {
   "cell_type": "code",
   "execution_count": 0,
   "metadata": {
    "application/vnd.databricks.v1+cell": {
     "cellMetadata": {
      "byteLimit": 2048000,
      "rowLimit": 10000
     },
     "inputWidgets": {},
     "nuid": "77a97f7a-5771-4bff-9850-d66b812d4cc1",
     "showTitle": false,
     "tableResultSettingsMap": {},
     "title": ""
    }
   },
   "outputs": [],
   "source": [
    "# 3) Save Silver\n",
    "(df.select([\"ts\"] + numeric_cols)\n",
    "   .write.format(\"delta\")\n",
    "   .mode(\"overwrite\")\n",
    "   .option(\"overwriteSchema\",\"true\")\n",
    "   .saveAsTable(SILVER))\n",
    "\n",
    "print(f\"✅ Silver built: {SILVER}\")"
   ]
  }
 ],
 "metadata": {
  "application/vnd.databricks.v1+notebook": {
   "computePreferences": null,
   "dashboards": [],
   "environmentMetadata": {
    "base_environment": "",
    "environment_version": "3"
   },
   "inputWidgetPreferences": null,
   "language": "python",
   "notebookMetadata": {
    "pythonIndentUnit": 4
   },
   "notebookName": "silver_build",
   "widgets": {
    "db": {
     "currentValue": "mining",
     "nuid": "bf2c6803-99af-48d0-89c6-5654a0691ad5",
     "typedWidgetInfo": {
      "autoCreated": false,
      "defaultValue": "mining",
      "label": null,
      "name": "db",
      "options": {
       "widgetDisplayType": "Text",
       "validationRegex": null
      },
      "parameterDataType": "String"
     },
     "widgetInfo": {
      "widgetType": "text",
      "defaultValue": "mining",
      "label": null,
      "name": "db",
      "options": {
       "widgetType": "text",
       "autoCreated": false,
       "validationRegex": null
      }
     }
    },
    "silver_table": {
     "currentValue": "silver_flotation",
     "nuid": "1bacb86c-c6fa-4a59-8b3a-b8a25d08e037",
     "typedWidgetInfo": {
      "autoCreated": false,
      "defaultValue": "silver_flotation",
      "label": null,
      "name": "silver_table",
      "options": {
       "widgetDisplayType": "Text",
       "validationRegex": null
      },
      "parameterDataType": "String"
     },
     "widgetInfo": {
      "widgetType": "text",
      "defaultValue": "silver_flotation",
      "label": null,
      "name": "silver_table",
      "options": {
       "widgetType": "text",
       "autoCreated": false,
       "validationRegex": null
      }
     }
    }
   }
  },
  "language_info": {
   "name": "python"
  }
 },
 "nbformat": 4,
 "nbformat_minor": 0
}
